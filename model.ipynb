{
 "cells": [
  {
   "cell_type": "markdown",
   "id": "3608d143",
   "metadata": {},
   "source": [
    "## Proyecto Security Data Science\n",
    "\n",
    "### Fase 2: Modelo base, Métricas personalizadas y Función optimización.\n",
    "\n",
    "### Miembros\n",
    "* Fernanda Esquivel - 21542\n",
    "\n",
    "### Link al repositorio\n",
    "El repositorio puede ser visualizado [acá](https://github.com/FerEsq/SDS-Project)"
   ]
  },
  {
   "cell_type": "markdown",
   "id": "75330e33",
   "metadata": {},
   "source": [
    "## Implementación del modelo base"
   ]
  },
  {
   "cell_type": "code",
   "execution_count": 2,
   "id": "97e60d08",
   "metadata": {},
   "outputs": [],
   "source": [
    "import pandas as pd\n",
    "import numpy as np\n",
    "import matplotlib.pyplot as plt\n",
    "import seaborn as sns\n",
    "import lightgbm as lgb\n",
    "from sklearn.model_selection import StratifiedKFold, train_test_split\n",
    "from sklearn.metrics import roc_auc_score, f1_score, precision_recall_curve, average_precision_score\n",
    "from sklearn.metrics import confusion_matrix, classification_report"
   ]
  },
  {
   "cell_type": "code",
   "execution_count": 4,
   "id": "a9a90772",
   "metadata": {},
   "outputs": [],
   "source": [
    "#Configuración de visualización\n",
    "plt.style.use('seaborn-v0_8-whitegrid')\n",
    "sns.set_style('whitegrid')\n",
    "sns.set(font_scale=1.2)\n",
    "plt.rcParams['figure.figsize'] = (12, 8)"
   ]
  },
  {
   "cell_type": "code",
   "execution_count": 6,
   "id": "a3b644f3",
   "metadata": {},
   "outputs": [],
   "source": [
    "#Cargar los datasets\n",
    "train_data = pd.read_csv('dataset/credit_card_fraud_features_train_madrugada.csv')\n",
    "test_data = pd.read_csv('dataset/credit_card_fraud_features_test_madrugada.csv')\n",
    "is_night_data = True"
   ]
  },
  {
   "cell_type": "code",
   "execution_count": 7,
   "id": "a24a9d04",
   "metadata": {},
   "outputs": [
    {
     "name": "stdout",
     "output_type": "stream",
     "text": [
      "Dimensiones del conjunto de entrenamiento: (629424, 75)\n",
      "Dimensiones del conjunto de prueba: (112442, 75)\n"
     ]
    }
   ],
   "source": [
    "print(f\"Dimensiones del conjunto de entrenamiento: {train_data.shape}\")\n",
    "print(f\"Dimensiones del conjunto de prueba: {test_data.shape}\")"
   ]
  },
  {
   "cell_type": "code",
   "execution_count": 8,
   "id": "530fb49d",
   "metadata": {},
   "outputs": [
    {
     "name": "stdout",
     "output_type": "stream",
     "text": [
      "\n",
      "Balance de clases en el conjunto de entrenamiento:\n",
      "No fraude: 621687 (98.7708%)\n",
      "Fraude: 7737 (1.2292%)\n"
     ]
    }
   ],
   "source": [
    "#Comprobar balance de clases\n",
    "print(\"\\nBalance de clases en el conjunto de entrenamiento:\")\n",
    "train_fraud_count = train_data['is_fraud'].value_counts()\n",
    "train_fraud_pct = train_data['is_fraud'].value_counts(normalize=True) * 100\n",
    "for i, (count, pct) in enumerate(zip(train_fraud_count, train_fraud_pct)):\n",
    "    print(f\"{'Fraude' if i == 1 else 'No fraude'}: {count} ({pct:.4f}%)\")"
   ]
  },
  {
   "cell_type": "code",
   "execution_count": 9,
   "id": "6f52d530",
   "metadata": {},
   "outputs": [
    {
     "name": "stdout",
     "output_type": "stream",
     "text": [
      "\n",
      "Balance de clases en el conjunto de prueba:\n",
      "No fraude: 111670 (99.3134%)\n",
      "Fraude: 772 (0.6866%)\n"
     ]
    }
   ],
   "source": [
    "print(\"\\nBalance de clases en el conjunto de prueba:\")\n",
    "test_fraud_count = test_data['is_fraud'].value_counts()\n",
    "test_fraud_pct = test_data['is_fraud'].value_counts(normalize=True) * 100\n",
    "for i, (count, pct) in enumerate(zip(test_fraud_count, test_fraud_pct)):\n",
    "    print(f\"{'Fraude' if i == 1 else 'No fraude'}: {count} ({pct:.4f}%)\")"
   ]
  },
  {
   "cell_type": "markdown",
   "id": "7d71c967",
   "metadata": {},
   "source": [
    "### Preparación del dataset para el entrenamiento"
   ]
  },
  {
   "cell_type": "code",
   "execution_count": 10,
   "id": "575cc7bd",
   "metadata": {},
   "outputs": [],
   "source": [
    "#Columnas que definitivamente no sirven como features\n",
    "exclude_cols = [\n",
    "    'cc_num', 'first', 'last', 'trans_num', 'street', 'city', 'state', 'job', \n",
    "    'dob', 'merchant', 'date', 'month_year', 'datetime', 'first_tx_date', 'birth_date'\n",
    "]"
   ]
  },
  {
   "cell_type": "code",
   "execution_count": 11,
   "id": "f508686e",
   "metadata": {},
   "outputs": [],
   "source": [
    "#Quitar columnas que no sirven como features\n",
    "train_features = train_data.drop(columns=[col for col in exclude_cols if col in train_data.columns])\n",
    "test_features = test_data.drop(columns=[col for col in exclude_cols if col in test_data.columns])"
   ]
  },
  {
   "cell_type": "code",
   "execution_count": 12,
   "id": "a0c504e3",
   "metadata": {},
   "outputs": [],
   "source": [
    "#Identificar columnas categóricas (object o category) y columns que son tipo bool\n",
    "cat_cols = [col for col in train_features.columns if \n",
    "            train_features[col].dtype == 'object' or \n",
    "            train_features[col].dtype == 'category' or\n",
    "            train_features[col].dtype == 'bool']"
   ]
  },
  {
   "cell_type": "code",
   "execution_count": 13,
   "id": "1c571550",
   "metadata": {},
   "outputs": [],
   "source": [
    "#Convertir columnas booleanas a enteros (0/1)\n",
    "for col in train_features.columns:\n",
    "    if train_features[col].dtype == 'bool':\n",
    "        train_features[col] = train_features[col].astype(int)\n",
    "        test_features[col] = test_features[col].astype(int)"
   ]
  },
  {
   "cell_type": "code",
   "execution_count": 14,
   "id": "7df59211",
   "metadata": {},
   "outputs": [
    {
     "name": "stdout",
     "output_type": "stream",
     "text": [
      "Columnas categóricas identificadas: ['category', 'gender', 'first_time_at_merchant', 'day_part', 'age_segment', 'category_simplified']\n"
     ]
    }
   ],
   "source": [
    "#Verificar la lista de columnas categóricas\n",
    "print(f\"Columnas categóricas identificadas: {cat_cols}\")"
   ]
  },
  {
   "cell_type": "code",
   "execution_count": 15,
   "id": "87d12c76",
   "metadata": {},
   "outputs": [],
   "source": [
    "#Preparar las variables predictoras (X) y la variable objetivo (y)\n",
    "y_train = train_features['is_fraud']\n",
    "X_train = train_features.drop('is_fraud', axis=1)\n",
    "\n",
    "y_test = test_features['is_fraud']\n",
    "X_test = test_features.drop('is_fraud', axis=1)"
   ]
  },
  {
   "cell_type": "code",
   "execution_count": 16,
   "id": "c115cc8b",
   "metadata": {},
   "outputs": [],
   "source": [
    "#One-hot encoding para las variables categóricas\n",
    "X_train = pd.get_dummies(X_train, columns=cat_cols, drop_first=True)\n",
    "X_test = pd.get_dummies(X_test, columns=cat_cols, drop_first=True)"
   ]
  },
  {
   "cell_type": "code",
   "execution_count": 17,
   "id": "5432221d",
   "metadata": {},
   "outputs": [],
   "source": [
    "#Asegurarse de que train y test tienen las mismas columnas\n",
    "train_cols = X_train.columns\n",
    "test_cols = X_test.columns"
   ]
  },
  {
   "cell_type": "code",
   "execution_count": 18,
   "id": "a9c25d7c",
   "metadata": {},
   "outputs": [],
   "source": [
    "#Añadir columnas faltantes en test\n",
    "missing_cols = set(train_cols) - set(test_cols)\n",
    "for col in missing_cols:\n",
    "    X_test[col] = 0"
   ]
  },
  {
   "cell_type": "code",
   "execution_count": 19,
   "id": "b6a58ffc",
   "metadata": {},
   "outputs": [],
   "source": [
    "#Usar solo columnas de entrenamiento y en el mismo orden\n",
    "X_test = X_test[train_cols]"
   ]
  },
  {
   "cell_type": "code",
   "execution_count": 20,
   "id": "89b30a62",
   "metadata": {},
   "outputs": [
    {
     "name": "stdout",
     "output_type": "stream",
     "text": [
      "Dimensiones de X_train: (629424, 77)\n",
      "Dimensiones de X_test: (112442, 77)\n"
     ]
    }
   ],
   "source": [
    "print(f\"Dimensiones de X_train: {X_train.shape}\")\n",
    "print(f\"Dimensiones de X_test: {X_test.shape}\")"
   ]
  },
  {
   "cell_type": "code",
   "execution_count": 21,
   "id": "586d738b",
   "metadata": {},
   "outputs": [],
   "source": [
    "#Separar una porción del conjunto de entrenamiento para validación\n",
    "X_train_split, X_val, y_train_split, y_val = train_test_split(\n",
    "    X_train, y_train, test_size=0.2, random_state=42, stratify=y_train\n",
    ")"
   ]
  },
  {
   "cell_type": "code",
   "execution_count": 22,
   "id": "edfaf4f8",
   "metadata": {},
   "outputs": [],
   "source": [
    "#Crear el conjunto de datos para LightGBM\n",
    "train_data_lgb = lgb.Dataset(X_train_split, label=y_train_split, categorical_feature='auto')\n",
    "val_data_lgb = lgb.Dataset(X_val, label=y_val, reference=train_data_lgb, categorical_feature='auto')"
   ]
  },
  {
   "cell_type": "code",
   "execution_count": 30,
   "id": "cc69ae1c",
   "metadata": {},
   "outputs": [],
   "source": [
    "params = {\n",
    "    'objective': 'binary',\n",
    "    'metric': 'auc',\n",
    "    'boosting_type': 'gbdt',\n",
    "    'num_leaves': 31,\n",
    "    'learning_rate': 0.05,\n",
    "    'feature_fraction': 0.9,\n",
    "    'bagging_fraction': 0.8,\n",
    "    'bagging_freq': 5,\n",
    "    'verbose': -1,\n",
    "    'scale_pos_weight': (y_train == 0).sum() / (y_train == 1).sum(),  # Para manejar el desbalance\n",
    "    # 'is_unbalance': True,  # Eliminado este parámetro para evitar el conflicto\n",
    "    'max_depth': -1,  # No limitar la profundidad\n",
    "}"
   ]
  },
  {
   "cell_type": "markdown",
   "id": "be9e21cc",
   "metadata": {},
   "source": [
    "### Entrenamiento del modelo"
   ]
  },
  {
   "cell_type": "code",
   "execution_count": 24,
   "id": "e1143503",
   "metadata": {},
   "outputs": [
    {
     "name": "stdout",
     "output_type": "stream",
     "text": [
      "Ratio de clases (no fraude/fraude): 80.35\n",
      "Parámetros del modelo:\n",
      "{'objective': 'binary', 'metric': 'auc', 'boosting_type': 'gbdt', 'num_leaves': 31, 'learning_rate': 0.05, 'feature_fraction': 0.9, 'bagging_fraction': 0.8, 'bagging_freq': 5, 'verbose': -1, 'scale_pos_weight': 80.35246219464909, 'is_unbalance': True, 'max_depth': -1}\n"
     ]
    }
   ],
   "source": [
    "print(f\"Ratio de clases (no fraude/fraude): {params['scale_pos_weight']:.2f}\")\n",
    "print(f\"Parámetros del modelo:\\n{params}\")"
   ]
  },
  {
   "cell_type": "code",
   "execution_count": 31,
   "id": "b16e6e77",
   "metadata": {},
   "outputs": [
    {
     "name": "stdout",
     "output_type": "stream",
     "text": [
      "Training until validation scores don't improve for 50 rounds\n",
      "[50]\ttraining's auc: 0.998585\tvalid_1's auc: 0.996757\n",
      "[100]\ttraining's auc: 0.999593\tvalid_1's auc: 0.998131\n",
      "[150]\ttraining's auc: 0.999812\tvalid_1's auc: 0.99871\n",
      "[200]\ttraining's auc: 0.9999\tvalid_1's auc: 0.998942\n",
      "[250]\ttraining's auc: 0.999941\tvalid_1's auc: 0.999054\n",
      "[300]\ttraining's auc: 0.999967\tvalid_1's auc: 0.999163\n",
      "[350]\ttraining's auc: 0.999983\tvalid_1's auc: 0.999167\n",
      "Early stopping, best iteration is:\n",
      "[308]\ttraining's auc: 0.999971\tvalid_1's auc: 0.999198\n"
     ]
    }
   ],
   "source": [
    "model = lgb.train(\n",
    "    params,\n",
    "    train_data_lgb,\n",
    "    num_boost_round=1000,\n",
    "    valid_sets=[train_data_lgb, val_data_lgb],\n",
    "    callbacks=[\n",
    "        lgb.callback.early_stopping(stopping_rounds=50, verbose=True),\n",
    "        lgb.callback.log_evaluation(period=50)\n",
    "    ]\n",
    ")"
   ]
  },
  {
   "cell_type": "code",
   "execution_count": 32,
   "id": "73945ff6",
   "metadata": {},
   "outputs": [
    {
     "name": "stdout",
     "output_type": "stream",
     "text": [
      "Modelo guardado como 'models/fraud_detection_lgb_model.txt'\n"
     ]
    }
   ],
   "source": [
    "#Guardar el modelo\n",
    "model.save_model('models/fraud_detection_lgb_model.txt')\n",
    "print(\"Modelo guardado como 'models/fraud_detection_lgb_model.txt'\")"
   ]
  },
  {
   "cell_type": "code",
   "execution_count": 34,
   "id": "13f8284e",
   "metadata": {},
   "outputs": [],
   "source": [
    "#Predicciones\n",
    "y_pred_val_proba = model.predict(X_val, num_iteration=model.best_iteration)\n",
    "y_pred_test_proba = model.predict(X_test, num_iteration=model.best_iteration)"
   ]
  },
  {
   "cell_type": "markdown",
   "id": "a13ea087",
   "metadata": {},
   "source": [
    "### Métricas"
   ]
  },
  {
   "cell_type": "code",
   "execution_count": 35,
   "id": "83dca4b3",
   "metadata": {},
   "outputs": [
    {
     "name": "stdout",
     "output_type": "stream",
     "text": [
      "\n",
      "Métricas de evaluación en el conjunto de validación:\n",
      "AUC-ROC: 0.9992\n"
     ]
    }
   ],
   "source": [
    "print(\"\\nMétricas de evaluación en el conjunto de validación:\")\n",
    "val_auc = roc_auc_score(y_val, y_pred_val_proba)\n",
    "print(f\"AUC-ROC: {val_auc:.4f}\")"
   ]
  },
  {
   "cell_type": "code",
   "execution_count": 36,
   "id": "38fd17df",
   "metadata": {},
   "outputs": [],
   "source": [
    "thresholds = np.arange(0.01, 1.0, 0.01)\n",
    "f1_scores = []"
   ]
  },
  {
   "cell_type": "code",
   "execution_count": 37,
   "id": "005e81a9",
   "metadata": {},
   "outputs": [],
   "source": [
    "for threshold in thresholds:\n",
    "    y_pred_val = (y_pred_val_proba >= threshold).astype(int)\n",
    "    f1 = f1_score(y_val, y_pred_val)\n",
    "    f1_scores.append(f1)"
   ]
  },
  {
   "cell_type": "code",
   "execution_count": 38,
   "id": "75f4282e",
   "metadata": {},
   "outputs": [],
   "source": [
    "best_threshold = thresholds[np.argmax(f1_scores)]\n",
    "best_f1 = max(f1_scores)"
   ]
  },
  {
   "cell_type": "code",
   "execution_count": 39,
   "id": "71be651e",
   "metadata": {},
   "outputs": [
    {
     "name": "stdout",
     "output_type": "stream",
     "text": [
      "Mejor threshold basado en F1-score: 0.9300\n",
      "Mejor F1-score en validación: 0.9384\n"
     ]
    }
   ],
   "source": [
    "print(f\"Mejor threshold basado en F1-score: {best_threshold:.4f}\")\n",
    "print(f\"Mejor F1-score en validación: {best_f1:.4f}\")"
   ]
  },
  {
   "cell_type": "code",
   "execution_count": 40,
   "id": "664ece55",
   "metadata": {},
   "outputs": [],
   "source": [
    "#Aplicar el mejor threshold a las predicciones\n",
    "y_pred_val = (y_pred_val_proba >= best_threshold).astype(int)\n",
    "y_pred_test = (y_pred_test_proba >= best_threshold).astype(int)"
   ]
  },
  {
   "cell_type": "code",
   "execution_count": 48,
   "id": "ad0d3172",
   "metadata": {},
   "outputs": [
    {
     "name": "stdout",
     "output_type": "stream",
     "text": [
      "\n",
      "Métricas detalladas en validación:\n",
      "Precisión: 0.9515\n",
      "Recall (Sensibilidad): 0.9257\n",
      "Especificidad: 0.9994\n",
      "F1-Score: 0.9384\n"
     ]
    }
   ],
   "source": [
    "#Métricas adicionales en validación\n",
    "val_confusion = confusion_matrix(y_val, y_pred_val)\n",
    "val_tn, val_fp, val_fn, val_tp = val_confusion.ravel()\n",
    "val_precision = val_tp / (val_tp + val_fp) if (val_tp + val_fp) > 0 else 0\n",
    "val_recall = val_tp / (val_tp + val_fn) if (val_tp + val_fn) > 0 else 0\n",
    "val_specificity = val_tn / (val_tn + val_fp) if (val_tn + val_fp) > 0 else 0\n",
    "val_f1 = f1_score(y_val, y_pred_val)\n",
    "\n",
    "print(\"\\nMétricas detalladas en validación:\")\n",
    "print(f\"Precisión: {val_precision:.4f}\")\n",
    "print(f\"Recall (Sensibilidad): {val_recall:.4f}\")\n",
    "print(f\"Especificidad: {val_specificity:.4f}\")\n",
    "print(f\"F1-Score: {val_f1:.4f}\")"
   ]
  },
  {
   "cell_type": "code",
   "execution_count": 49,
   "id": "e93d30ca",
   "metadata": {},
   "outputs": [
    {
     "data": {
      "image/png": "[encoded data removed]",
      "text/plain": [
       "<Figure size 1200x1000 with 2 Axes>"
      ]
     },
     "metadata": {},
     "output_type": "display_data"
    }
   ],
   "source": [
    "plt.figure(figsize=(12, 10))\n",
    "sns.heatmap(val_confusion, annot=True, fmt='d', cmap='Blues')\n",
    "plt.title('Confusion Matrix')\n",
    "plt.xlabel('Prediction')\n",
    "plt.ylabel('True')\n",
    "plt.tight_layout()\n",
    "plt.show()"
   ]
  },
  {
   "cell_type": "code",
   "execution_count": 46,
   "id": "6f0c6a05",
   "metadata": {},
   "outputs": [
    {
     "name": "stdout",
     "output_type": "stream",
     "text": [
      "\n",
      "Métricas en el conjunto de prueba (diciembre):\n",
      "AUC-ROC: 0.9984\n",
      "Precisión: 0.9179\n",
      "Recall (Sensibilidad): 0.8251\n",
      "Especificidad: 0.9995\n",
      "F1-Score: 0.8690\n"
     ]
    }
   ],
   "source": [
    "#Métricas en el conjunto de prueba\n",
    "test_auc = roc_auc_score(y_test, y_pred_test_proba)\n",
    "test_confusion = confusion_matrix(y_test, y_pred_test)\n",
    "test_tn, test_fp, test_fn, test_tp = test_confusion.ravel()\n",
    "test_precision = test_tp / (test_tp + test_fp) if (test_tp + test_fp) > 0 else 0\n",
    "test_recall = test_tp / (test_tp + test_fn) if (test_tp + test_fn) > 0 else 0\n",
    "test_specificity = test_tn / (test_tn + test_fp) if (test_tn + test_fp) > 0 else 0\n",
    "test_f1 = f1_score(y_test, y_pred_test)\n",
    "\n",
    "print(\"\\nMétricas en el conjunto de prueba (diciembre):\")\n",
    "print(f\"AUC-ROC: {test_auc:.4f}\")\n",
    "print(f\"Precisión: {test_precision:.4f}\")\n",
    "print(f\"Recall (Sensibilidad): {test_recall:.4f}\")\n",
    "print(f\"Especificidad: {test_specificity:.4f}\")\n",
    "print(f\"F1-Score: {test_f1:.4f}\")"
   ]
  },
  {
   "cell_type": "code",
   "execution_count": 47,
   "id": "6e71c360",
   "metadata": {},
   "outputs": [
    {
     "data": {
      "image/png": "[encoded data removed]",
      "text/plain": [
       "<Figure size 1200x1000 with 2 Axes>"
      ]
     },
     "metadata": {},
     "output_type": "display_data"
    }
   ],
   "source": [
    "plt.figure(figsize=(12, 10))\n",
    "sns.heatmap(test_confusion, annot=True, fmt='d', cmap='Blues')\n",
    "plt.title('Confusion Matrix')\n",
    "plt.xlabel('Prediction')\n",
    "plt.ylabel('True')\n",
    "plt.tight_layout()\n",
    "plt.show()"
   ]
  }
 ],
 "metadata": {
  "kernelspec": {
   "display_name": "Python 3",
   "language": "python",
   "name": "python3"
  },
  "language_info": {
   "codemirror_mode": {
    "name": "ipython",
    "version": 3
   },
   "file_extension": ".py",
   "mimetype": "text/x-python",
   "name": "python",
   "nbconvert_exporter": "python",
   "pygments_lexer": "ipython3",
   "version": "3.10.11"
  }
 },
 "nbformat": 4,
 "nbformat_minor": 5
}
