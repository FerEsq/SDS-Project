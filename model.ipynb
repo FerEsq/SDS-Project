{
 "cells": [
  {
   "cell_type": "markdown",
   "id": "3608d143",
   "metadata": {},
   "source": [
    "## Proyecto Security Data Science\n",
    "\n",
    "### Fase 2: Modelo base, Métricas personalizadas y Función optimización.\n",
    "\n",
    "### Miembros\n",
    "* Fernanda Esquivel - 21542\n",
    "\n",
    "### Link al repositorio\n",
    "El repositorio puede ser visualizado [acá](https://github.com/FerEsq/SDS-Project)"
   ]
  },
  {
   "cell_type": "markdown",
   "id": "75330e33",
   "metadata": {},
   "source": [
    "## Implementación del modelo base"
   ]
  },
  {
   "cell_type": "code",
   "execution_count": 18,
   "id": "97e60d08",
   "metadata": {},
   "outputs": [],
   "source": [
    "import pandas as pd\n",
    "import numpy as np\n",
    "import lightgbm as lgb\n",
    "from sklearn.metrics import roc_auc_score, f1_score, precision_score, recall_score, confusion_matrix, classification_report\n",
    "from sklearn.metrics import average_precision_score, precision_recall_curve, roc_curve\n",
    "from sklearn.preprocessing import StandardScaler\n",
    "from sklearn.preprocessing import LabelEncoder\n",
    "import matplotlib.pyplot as plt\n",
    "import seaborn as sns\n",
    "import warnings\n",
    "warnings.filterwarnings('ignore')"
   ]
  },
  {
   "cell_type": "code",
   "execution_count": 3,
   "id": "a3b644f3",
   "metadata": {},
   "outputs": [],
   "source": [
    "#Cargar los datasets\n",
    "df_train = pd.read_csv('dataset/credit_card_fraud_features_train.csv')\n",
    "df_test = pd.read_csv('dataset/credit_card_fraud_features_test.csv')"
   ]
  },
  {
   "cell_type": "code",
   "execution_count": 4,
   "id": "e28148fd",
   "metadata": {},
   "outputs": [
    {
     "name": "stdout",
     "output_type": "stream",
     "text": [
      "Dataset de entrenamiento: (1571796, 75)\n",
      "Dataset de validación: (280598, 75)\n"
     ]
    }
   ],
   "source": [
    "print(f\"Dataset de entrenamiento: {df_train.shape}\")\n",
    "print(f\"Dataset de validación: {df_test.shape}\")"
   ]
  },
  {
   "cell_type": "code",
   "execution_count": 5,
   "id": "dbc8be31",
   "metadata": {},
   "outputs": [],
   "source": [
    "#Definir las características a usar (excluir identificadores y target)\n",
    "features_to_exclude = ['is_fraud', 'cc_num', 'trans_num', 'merchant', 'first', 'last', \n",
    "                        'street', 'city', 'state', 'job', 'dob', 'trans_num', \n",
    "                        'unix_time', 'datetime', 'birth_date', 'first_tx_date',\n",
    "                        'date', 'month_year']"
   ]
  },
  {
   "cell_type": "code",
   "execution_count": 6,
   "id": "346df402",
   "metadata": {},
   "outputs": [
    {
     "name": "stdout",
     "output_type": "stream",
     "text": [
      "\n",
      "Número de características a usar: 58\n"
     ]
    }
   ],
   "source": [
    "#Obtener lista de características\n",
    "feature_cols = [col for col in df_train.columns if col not in features_to_exclude]\n",
    "print(f\"\\nNúmero de características a usar: {len(feature_cols)}\")"
   ]
  },
  {
   "cell_type": "code",
   "execution_count": 13,
   "id": "bc0496bb",
   "metadata": {},
   "outputs": [
    {
     "name": "stdout",
     "output_type": "stream",
     "text": [
      "\n",
      "Características categóricas encontradas: ['category', 'gender', 'day_part', 'age_segment', 'category_simplified']\n",
      "Características numéricas: 52\n"
     ]
    }
   ],
   "source": [
    "#Identificar columnas categóricas\n",
    "categorical_cols = df_train[feature_cols].select_dtypes(include=['object', 'category']).columns.tolist()\n",
    "numerical_cols = df_train[feature_cols].select_dtypes(include=[np.number]).columns.tolist()\n",
    "\n",
    "print(f\"\\nCaracterísticas categóricas encontradas: {categorical_cols}\")\n",
    "print(f\"Características numéricas: {len(numerical_cols)}\")"
   ]
  },
  {
   "cell_type": "code",
   "execution_count": 14,
   "id": "30bd9c45",
   "metadata": {},
   "outputs": [],
   "source": [
    "# Preparar los datos\n",
    "X_train = df_train[feature_cols].copy()\n",
    "y_train = df_train['is_fraud'].copy()"
   ]
  },
  {
   "cell_type": "code",
   "execution_count": 15,
   "id": "c5015c9c",
   "metadata": {},
   "outputs": [],
   "source": [
    "X_test = df_test[feature_cols].copy()\n",
    "y_test = df_test['is_fraud'].copy()"
   ]
  },
  {
   "cell_type": "code",
   "execution_count": 19,
   "id": "89e39a0b",
   "metadata": {},
   "outputs": [],
   "source": [
    "#Encodificar variables categóricas\n",
    "label_encoders = {}\n",
    "for col in categorical_cols:\n",
    "    le = LabelEncoder()\n",
    "    # Ajustar el encoder con todos los valores posibles (train + test)\n",
    "    all_values = pd.concat([X_train[col], X_test[col]]).astype(str).unique()\n",
    "    le.fit(all_values)\n",
    "    \n",
    "    # Transformar train y test\n",
    "    X_train[col] = le.transform(X_train[col].astype(str))\n",
    "    X_test[col] = le.transform(X_test[col].astype(str))\n",
    "    \n",
    "    # Guardar el encoder\n",
    "    label_encoders[col] = le"
   ]
  },
  {
   "cell_type": "code",
   "execution_count": 20,
   "id": "42209e1d",
   "metadata": {},
   "outputs": [],
   "source": [
    "#Convertir booleanos a enteros\n",
    "bool_cols = X_train.select_dtypes(include=['bool']).columns\n",
    "for col in bool_cols:\n",
    "    X_train[col] = X_train[col].astype(int)\n",
    "    X_test[col] = X_test[col].astype(int)"
   ]
  },
  {
   "cell_type": "code",
   "execution_count": 21,
   "id": "5d09b3cd",
   "metadata": {},
   "outputs": [
    {
     "name": "stdout",
     "output_type": "stream",
     "text": [
      "\n",
      "Número de características a usar: 58\n"
     ]
    }
   ],
   "source": [
    "print(f\"\\nNúmero de características a usar: {len(feature_cols)}\")"
   ]
  },
  {
   "cell_type": "code",
   "execution_count": 22,
   "id": "d7e39e17",
   "metadata": {},
   "outputs": [
    {
     "name": "stdout",
     "output_type": "stream",
     "text": [
      "\n",
      "Balance de clases en entrenamiento (train):\n",
      "is_fraud\n",
      "0    0.994401\n",
      "1    0.005599\n",
      "Name: proportion, dtype: float64\n",
      "\n",
      "Balance de clases en validación (test):\n",
      "is_fraud\n",
      "0    0.996971\n",
      "1    0.003029\n",
      "Name: proportion, dtype: float64\n"
     ]
    }
   ],
   "source": [
    "#Verificar balance de clases\n",
    "print(\"\\nBalance de clases en entrenamiento (train):\")\n",
    "print(y_train.value_counts(normalize=True))\n",
    "print(\"\\nBalance de clases en validación (test):\")\n",
    "print(y_test.value_counts(normalize=True))"
   ]
  },
  {
   "cell_type": "code",
   "execution_count": null,
   "id": "8c70162c",
   "metadata": {},
   "outputs": [],
   "source": [
    "#Configurar el modelo LightGBM\n",
    "#por el desbalance de clases, ajustamos algunos parametros\n",
    "lgb_params = {\n",
    "    'objective': 'binary',\n",
    "    'metric': ['auc', 'binary_logloss'],\n",
    "    'boosting_type': 'gbdt',\n",
    "    'num_leaves': 31,\n",
    "    'learning_rate': 0.05,\n",
    "    'feature_fraction': 0.9,\n",
    "    'bagging_fraction': 0.8,\n",
    "    'bagging_freq': 5,\n",
    "    'verbose': -1,\n",
    "    'is_unbalance': True,  # Para manejar el desbalance de clases\n",
    "    'random_state': 42\n",
    "}"
   ]
  },
  {
   "cell_type": "code",
   "execution_count": 26,
   "id": "e2267e93",
   "metadata": {},
   "outputs": [],
   "source": [
    "#Crear datasets de LightGBM\n",
    "train_data = lgb.Dataset(X_train, label=y_train, categorical_feature=categorical_cols)\n",
    "valid_data = lgb.Dataset(X_test, label=y_test, reference=train_data, categorical_feature=categorical_cols)"
   ]
  },
  {
   "cell_type": "code",
   "execution_count": 27,
   "id": "99ae88fc",
   "metadata": {},
   "outputs": [
    {
     "name": "stdout",
     "output_type": "stream",
     "text": [
      "Training until validation scores don't improve for 10 rounds\n",
      "[10]\tvalid_0's auc: 0.991437\tvalid_0's binary_logloss: 0.113212\n",
      "[20]\tvalid_0's auc: 0.993101\tvalid_0's binary_logloss: 0.0938509\n",
      "[30]\tvalid_0's auc: 0.994751\tvalid_0's binary_logloss: 0.076019\n",
      "[40]\tvalid_0's auc: 0.99549\tvalid_0's binary_logloss: 0.0650967\n",
      "[50]\tvalid_0's auc: 0.996063\tvalid_0's binary_logloss: 0.0557775\n",
      "[60]\tvalid_0's auc: 0.996559\tvalid_0's binary_logloss: 0.0480596\n",
      "[70]\tvalid_0's auc: 0.996997\tvalid_0's binary_logloss: 0.042073\n",
      "[80]\tvalid_0's auc: 0.997332\tvalid_0's binary_logloss: 0.0373939\n",
      "[90]\tvalid_0's auc: 0.997627\tvalid_0's binary_logloss: 0.0318982\n",
      "[100]\tvalid_0's auc: 0.997814\tvalid_0's binary_logloss: 0.0282027\n",
      "Did not meet early stopping. Best iteration is:\n",
      "[100]\tvalid_0's auc: 0.997814\tvalid_0's binary_logloss: 0.0282027\n"
     ]
    }
   ],
   "source": [
    "#Entrenar el modelo LightGBM\n",
    "model = lgb.train(\n",
    "    lgb_params,\n",
    "    train_data,\n",
    "    valid_sets=[valid_data],\n",
    "    num_boost_round=100,\n",
    "    callbacks=[\n",
    "        lgb.early_stopping(stopping_rounds=10),\n",
    "        lgb.log_evaluation(period=10)\n",
    "    ]\n",
    ")"
   ]
  },
  {
   "cell_type": "code",
   "execution_count": 28,
   "id": "e2995865",
   "metadata": {},
   "outputs": [],
   "source": [
    "#Realizar predicciones\n",
    "y_pred_proba = model.predict(X_test, num_iteration=model.best_iteration)\n",
    "y_pred = (y_pred_proba > 0.5).astype(int)"
   ]
  },
  {
   "cell_type": "markdown",
   "id": "c69c1125",
   "metadata": {},
   "source": [
    "### Métricas del modelo"
   ]
  },
  {
   "cell_type": "code",
   "execution_count": 29,
   "id": "e621aa83",
   "metadata": {},
   "outputs": [
    {
     "name": "stdout",
     "output_type": "stream",
     "text": [
      "AUC-ROC: 0.9978\n"
     ]
    }
   ],
   "source": [
    "#AUC-ROC\n",
    "auc_roc = roc_auc_score(y_test, y_pred_proba)\n",
    "print(f\"AUC-ROC: {auc_roc:.4f}\")"
   ]
  },
  {
   "cell_type": "code",
   "execution_count": 30,
   "id": "69a2af4d",
   "metadata": {},
   "outputs": [
    {
     "name": "stdout",
     "output_type": "stream",
     "text": [
      "F1-Score: 0.3329\n"
     ]
    }
   ],
   "source": [
    "#F1-Score\n",
    "f1 = f1_score(y_test, y_pred)\n",
    "print(f\"F1-Score: {f1:.4f}\")"
   ]
  },
  {
   "cell_type": "code",
   "execution_count": 31,
   "id": "6c8c2ca0",
   "metadata": {},
   "outputs": [
    {
     "name": "stdout",
     "output_type": "stream",
     "text": [
      "Precisión: 0.2008\n"
     ]
    }
   ],
   "source": [
    "#Precisión\n",
    "precision = precision_score(y_test, y_pred)\n",
    "print(f\"Precisión: {precision:.4f}\")"
   ]
  },
  {
   "cell_type": "code",
   "execution_count": 32,
   "id": "e7888fd6",
   "metadata": {},
   "outputs": [
    {
     "name": "stdout",
     "output_type": "stream",
     "text": [
      "Recall: 0.9718\n"
     ]
    }
   ],
   "source": [
    "#Recall\n",
    "recall = recall_score(y_test, y_pred)\n",
    "print(f\"Recall: {recall:.4f}\")"
   ]
  },
  {
   "cell_type": "code",
   "execution_count": 33,
   "id": "50746749",
   "metadata": {},
   "outputs": [
    {
     "name": "stdout",
     "output_type": "stream",
     "text": [
      "Average Precision: 0.8877\n"
     ]
    }
   ],
   "source": [
    "#Average Precision (útil para datasets desbalanceados)\n",
    "avg_precision = average_precision_score(y_test, y_pred_proba)\n",
    "print(f\"Average Precision: {avg_precision:.4f}\")"
   ]
  },
  {
   "cell_type": "code",
   "execution_count": 39,
   "id": "2de0c86b",
   "metadata": {},
   "outputs": [
    {
     "data": {
      "image/png": "[encoded data removed]",
      "text/plain": [
       "<Figure size 800x600 with 2 Axes>"
      ]
     },
     "metadata": {},
     "output_type": "display_data"
    }
   ],
   "source": [
    "#Matriz de confusión\n",
    "cm = confusion_matrix(y_test, y_pred)\n",
    "plt.figure(figsize=(8, 6))\n",
    "sns.heatmap(cm, annot=True, fmt='d', cmap='Blues', \n",
    "            xticklabels=['No Fraude', 'Fraude'],\n",
    "            yticklabels=['No Fraude', 'Fraude'])\n",
    "plt.title('Matriz de Confusión - Modelo Base')\n",
    "plt.ylabel('Valor Real')\n",
    "plt.xlabel('Predicción')\n",
    "plt.savefig('graphs/confusion_matrix_base_model.png', dpi=300, bbox_inches='tight')"
   ]
  },
  {
   "cell_type": "code",
   "execution_count": 40,
   "id": "f11b942c",
   "metadata": {},
   "outputs": [
    {
     "name": "stdout",
     "output_type": "stream",
     "text": [
      "\n",
      "Ratio de Falsos Positivos: 0.7992\n",
      "Número de Fraudes Detectados: 826\n",
      "Número de Falsos Positivos: 3287\n",
      "Ratio FP/TP: 3.98\n"
     ]
    }
   ],
   "source": [
    "#Calcular y mostrar el ratio de falsos positivos\n",
    "tn, fp, fn, tp = cm.ravel()\n",
    "false_positive_ratio = fp / (tp + fp) if (tp + fp) > 0 else 0\n",
    "print(f\"\\nRatio de Falsos Positivos: {false_positive_ratio:.4f}\")\n",
    "print(f\"Número de Fraudes Detectados: {tp}\")\n",
    "print(f\"Número de Falsos Positivos: {fp}\")\n",
    "print(f\"Ratio FP/TP: {fp/tp if tp > 0 else 'inf':.2f}\")"
   ]
  },
  {
   "cell_type": "code",
   "execution_count": 41,
   "id": "601b6773",
   "metadata": {},
   "outputs": [
    {
     "name": "stdout",
     "output_type": "stream",
     "text": [
      "\n",
      "Reporte de Clasificación:\n",
      "              precision    recall  f1-score   support\n",
      "\n",
      "           0       1.00      0.99      0.99    279748\n",
      "           1       0.20      0.97      0.33       850\n",
      "\n",
      "    accuracy                           0.99    280598\n",
      "   macro avg       0.60      0.98      0.66    280598\n",
      "weighted avg       1.00      0.99      0.99    280598\n",
      "\n"
     ]
    }
   ],
   "source": [
    "#Reporte de clasificación completo\n",
    "print(\"\\nReporte de Clasificación:\")\n",
    "print(classification_report(y_test, y_pred))"
   ]
  }
 ],
 "metadata": {
  "kernelspec": {
   "display_name": "Python 3",
   "language": "python",
   "name": "python3"
  },
  "language_info": {
   "codemirror_mode": {
    "name": "ipython",
    "version": 3
   },
   "file_extension": ".py",
   "mimetype": "text/x-python",
   "name": "python",
   "nbconvert_exporter": "python",
   "pygments_lexer": "ipython3",
   "version": "3.10.11"
  }
 },
 "nbformat": 4,
 "nbformat_minor": 5
}
