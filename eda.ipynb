{
 "cells": [
  {
   "cell_type": "markdown",
   "metadata": {},
   "source": [
    "## Proyecto Security Data Science\n",
    "\n",
    "### Fase 1: Exploración de datos e Ingeniería de características\n",
    "\n",
    "### Miembros\n",
    "* Fernanda Esquivel - 21542\n",
    "\n",
    "### Link al repositorio\n",
    "El repositorio puede ser visualizado [acá](https://github.com/FerEsq/SDS-Project)"
   ]
  },
  {
   "cell_type": "markdown",
   "metadata": {},
   "source": [
    "## Exploración de Datos (EDA)"
   ]
  },
  {
   "cell_type": "code",
   "execution_count": 2,
   "metadata": {},
   "outputs": [],
   "source": [
    "import pandas as pd\n",
    "import numpy as np\n",
    "import matplotlib.pyplot as plt\n",
    "import seaborn as sns\n",
    "from datetime import datetime"
   ]
  },
  {
   "cell_type": "markdown",
   "metadata": {},
   "source": [
    "### Carga del Dataset"
   ]
  },
  {
   "cell_type": "code",
   "execution_count": 3,
   "metadata": {},
   "outputs": [
    {
     "name": "stdout",
     "output_type": "stream",
     "text": [
      "Dataset cargado correctamente. Forma: (1852394, 35)\n"
     ]
    }
   ],
   "source": [
    "df = pd.read_csv('dataset\\dataset_feature_engineering.csv')\n",
    "print(f\"Dataset cargado correctamente. Forma: {df.shape}\")"
   ]
  },
  {
   "cell_type": "code",
   "execution_count": 4,
   "metadata": {},
   "outputs": [
    {
     "name": "stdout",
     "output_type": "stream",
     "text": [
      "\n",
      "Primeras 5 filas del dataset:\n",
      "             cc_num                            merchant       category  \\\n",
      "0  2703186189652095          fraud_Rippin, Kub and Mann       misc_net   \n",
      "1      630423337322     fraud_Heller, Gutmann and Zieme    grocery_pos   \n",
      "2    38859492057661                fraud_Lind-Buckridge  entertainment   \n",
      "3  3534093764340240  fraud_Kutch, Hermiston and Farrell  gas_transport   \n",
      "4   375534208663984                 fraud_Keeling-Crist       misc_pos   \n",
      "\n",
      "      amt      first     last gender                        street  \\\n",
      "0    4.97   Jennifer    Banks      F                561 Perry Cove   \n",
      "1  107.23  Stephanie     Gill      F  43039 Riley Greens Suite 393   \n",
      "2  220.11     Edward  Sanchez      M      594 White Dale Suite 530   \n",
      "3   45.00     Jeremy    White      M   9443 Cynthia Court Apt. 038   \n",
      "4   41.96      Tyler   Garcia      M              408 Bradley Rest   \n",
      "\n",
      "             city state  ...  first_time_at_merchant  \\\n",
      "0  Moravian Falls    NC  ...                    True   \n",
      "1          Orient    WA  ...                    True   \n",
      "2      Malad City    ID  ...                    True   \n",
      "3         Boulder    MT  ...                    True   \n",
      "4        Doe Hill    VA  ...                    True   \n",
      "\n",
      "   dist_between_client_and_merch  trans_month  trans_day hour  year  \\\n",
      "0                      78.773821            1          1    0  2019   \n",
      "1                      30.216618            1          1    0  2019   \n",
      "2                     108.102912            1          1    0  2019   \n",
      "3                      95.685115            1          1    0  2019   \n",
      "4                      77.702395            1          1    0  2019   \n",
      "\n",
      "  times_shopped_at_merchant  times_shopped_at_merchant_year  \\\n",
      "0                         5                               4   \n",
      "1                         4                               4   \n",
      "2                         4                               3   \n",
      "3                         1                               1   \n",
      "4                         6                               1   \n",
      "\n",
      "   times_shopped_at_merchant_month  times_shopped_at_merchant_day  \n",
      "0                                2                              1  \n",
      "1                                1                              1  \n",
      "2                                1                              1  \n",
      "3                                1                              1  \n",
      "4                                1                              1  \n",
      "\n",
      "[5 rows x 35 columns]\n"
     ]
    }
   ],
   "source": [
    "#Primeras filas\n",
    "print(\"\\nPrimeras 5 filas del dataset:\")\n",
    "print(df.head())"
   ]
  },
  {
   "cell_type": "code",
   "execution_count": 5,
   "metadata": {},
   "outputs": [
    {
     "name": "stdout",
     "output_type": "stream",
     "text": [
      "\n",
      "Información general del dataset:\n",
      "<class 'pandas.core.frame.DataFrame'>\n",
      "RangeIndex: 1852394 entries, 0 to 1852393\n",
      "Data columns (total 35 columns):\n",
      " #   Column                           Dtype  \n",
      "---  ------                           -----  \n",
      " 0   cc_num                           int64  \n",
      " 1   merchant                         object \n",
      " 2   category                         object \n",
      " 3   amt                              float64\n",
      " 4   first                            object \n",
      " 5   last                             object \n",
      " 6   gender                           object \n",
      " 7   street                           object \n",
      " 8   city                             object \n",
      " 9   state                            object \n",
      " 10  zip                              int64  \n",
      " 11  lat                              float64\n",
      " 12  long                             float64\n",
      " 13  city_pop                         int64  \n",
      " 14  job                              object \n",
      " 15  dob                              object \n",
      " 16  trans_num                        object \n",
      " 17  unix_time                        int64  \n",
      " 18  merch_lat                        float64\n",
      " 19  merch_long                       float64\n",
      " 20  is_fraud                         int64  \n",
      " 21  amt_month                        float64\n",
      " 22  amt_year                         float64\n",
      " 23  amt_month_shopping_net_spend     float64\n",
      " 24  count_month_shopping_net         float64\n",
      " 25  first_time_at_merchant           bool   \n",
      " 26  dist_between_client_and_merch    float64\n",
      " 27  trans_month                      int64  \n",
      " 28  trans_day                        int64  \n",
      " 29  hour                             int64  \n",
      " 30  year                             int64  \n",
      " 31  times_shopped_at_merchant        int64  \n",
      " 32  times_shopped_at_merchant_year   int64  \n",
      " 33  times_shopped_at_merchant_month  int64  \n",
      " 34  times_shopped_at_merchant_day    int64  \n",
      "dtypes: bool(1), float64(10), int64(13), object(11)\n",
      "memory usage: 482.3+ MB\n",
      "None\n"
     ]
    }
   ],
   "source": [
    "#Información general del dataset\n",
    "print(\"\\nInformación general del dataset:\")\n",
    "print(df.info())"
   ]
  },
  {
   "cell_type": "code",
   "execution_count": 6,
   "metadata": {},
   "outputs": [
    {
     "name": "stdout",
     "output_type": "stream",
     "text": [
      "\n",
      "Estadísticas descriptivas:\n",
      "             cc_num           amt           zip           lat          long  \\\n",
      "count  1.852394e+06  1.852394e+06  1.852394e+06  1.852394e+06  1.852394e+06   \n",
      "mean   4.173860e+17  7.006357e+01  4.881326e+04  3.853931e+01 -9.022783e+01   \n",
      "std    1.309115e+18  1.592540e+02  2.688185e+04  5.071470e+00  1.374789e+01   \n",
      "min    6.041621e+10  1.000000e+00  1.257000e+03  2.002710e+01 -1.656723e+02   \n",
      "25%    1.800429e+14  9.640000e+00  2.623700e+04  3.466890e+01 -9.679800e+01   \n",
      "50%    3.521417e+15  4.745000e+01  4.817400e+04  3.935430e+01 -8.747690e+01   \n",
      "75%    4.642255e+15  8.310000e+01  7.204200e+04  4.194040e+01 -8.015800e+01   \n",
      "max    4.992346e+18  2.894890e+04  9.992100e+04  6.669330e+01 -6.795030e+01   \n",
      "\n",
      "           city_pop     unix_time     merch_lat    merch_long      is_fraud  \\\n",
      "count  1.852394e+06  1.852394e+06  1.852394e+06  1.852394e+06  1.852394e+06   \n",
      "mean   8.864367e+04  1.358674e+09  3.853898e+01 -9.022794e+01  5.210015e-03   \n",
      "std    3.014876e+05  1.819508e+07  5.105604e+00  1.375969e+01  7.199217e-02   \n",
      "min    2.300000e+01  1.325376e+09  1.902742e+01 -1.666716e+02  0.000000e+00   \n",
      "25%    7.410000e+02  1.343017e+09  3.474012e+01 -9.689944e+01  0.000000e+00   \n",
      "50%    2.443000e+03  1.357089e+09  3.936890e+01 -8.744069e+01  0.000000e+00   \n",
      "75%    2.032800e+04  1.374581e+09  4.195626e+01 -8.024511e+01  0.000000e+00   \n",
      "max    2.906700e+06  1.388534e+09  6.751027e+01 -6.695090e+01  1.000000e+00   \n",
      "\n",
      "       ...  count_month_shopping_net  dist_between_client_and_merch  \\\n",
      "count  ...              1.852394e+06                   1.852394e+06   \n",
      "mean   ...              4.567241e+00                   7.610956e+01   \n",
      "std    ...              4.575502e+00                   2.909273e+01   \n",
      "min    ...              0.000000e+00                   2.227351e-02   \n",
      "25%    ...              1.000000e+00                   5.534198e+01   \n",
      "50%    ...              3.000000e+00                   7.824823e+01   \n",
      "75%    ...              7.000000e+00                   9.847204e+01   \n",
      "max    ...              4.800000e+01                   1.518682e+02   \n",
      "\n",
      "        trans_month     trans_day          hour          year  \\\n",
      "count  1.852394e+06  1.852394e+06  1.852394e+06  1.852394e+06   \n",
      "mean   7.152067e+00  2.967456e+00  1.280612e+01  2.019501e+03   \n",
      "std    3.424954e+00  2.197983e+00  6.815753e+00  4.999996e-01   \n",
      "min    1.000000e+00  0.000000e+00  0.000000e+00  2.019000e+03   \n",
      "25%    4.000000e+00  1.000000e+00  7.000000e+00  2.019000e+03   \n",
      "50%    7.000000e+00  3.000000e+00  1.400000e+01  2.020000e+03   \n",
      "75%    1.000000e+01  5.000000e+00  1.900000e+01  2.020000e+03   \n",
      "max    1.200000e+01  6.000000e+00  2.300000e+01  2.020000e+03   \n",
      "\n",
      "       times_shopped_at_merchant  times_shopped_at_merchant_year  \\\n",
      "count               1.852394e+06                    1.852394e+06   \n",
      "mean                5.298079e+00                    3.150459e+00   \n",
      "std                 3.094345e+00                    1.865369e+00   \n",
      "min                 1.000000e+00                    1.000000e+00   \n",
      "25%                 3.000000e+00                    2.000000e+00   \n",
      "50%                 5.000000e+00                    3.000000e+00   \n",
      "75%                 7.000000e+00                    4.000000e+00   \n",
      "max                 2.800000e+01                    1.700000e+01   \n",
      "\n",
      "       times_shopped_at_merchant_month  times_shopped_at_merchant_day  \n",
      "count                     1.852394e+06                   1.852394e+06  \n",
      "mean                      1.389109e+00                   1.655442e+00  \n",
      "std                       6.722559e-01                   9.025901e-01  \n",
      "min                       1.000000e+00                   1.000000e+00  \n",
      "25%                       1.000000e+00                   1.000000e+00  \n",
      "50%                       1.000000e+00                   1.000000e+00  \n",
      "75%                       2.000000e+00                   2.000000e+00  \n",
      "max                       9.000000e+00                   9.000000e+00  \n",
      "\n",
      "[8 rows x 23 columns]\n"
     ]
    }
   ],
   "source": [
    "#Estadísticas descriptivas\n",
    "print(\"\\nEstadísticas descriptivas:\")\n",
    "print(df.describe())"
   ]
  },
  {
   "cell_type": "code",
   "execution_count": 7,
   "metadata": {},
   "outputs": [
    {
     "name": "stdout",
     "output_type": "stream",
     "text": [
      "\n",
      "Valores nulos por columna:\n",
      "No hay valores nulos\n"
     ]
    }
   ],
   "source": [
    "#Verificación de valores nulos\n",
    "nullCounter = df.isnull().sum()\n",
    "print(\"\\nValores nulos por columna:\")\n",
    "print(nullCounter[nullCounter > 0] if len(nullCounter[nullCounter > 0]) > 0 else \"No hay valores nulos\")"
   ]
  },
  {
   "cell_type": "markdown",
   "metadata": {},
   "source": [
    "## Ingeniería de Variables"
   ]
  }
 ],
 "metadata": {
  "kernelspec": {
   "display_name": "Python 3",
   "language": "python",
   "name": "python3"
  },
  "language_info": {
   "codemirror_mode": {
    "name": "ipython",
    "version": 3
   },
   "file_extension": ".py",
   "mimetype": "text/x-python",
   "name": "python",
   "nbconvert_exporter": "python",
   "pygments_lexer": "ipython3",
   "version": "3.10.11"
  }
 },
 "nbformat": 4,
 "nbformat_minor": 2
}
